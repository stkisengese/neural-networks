{
 "cells": [
  {
   "cell_type": "code",
   "execution_count": 1,
   "id": "97e672c6-d666-4d4b-9461-81ab56b9ede8",
   "metadata": {},
   "outputs": [],
   "source": [
    "# LOG LOSS"
   ]
  },
  {
   "cell_type": "code",
   "execution_count": 2,
   "id": "8d61f135-0f3e-4f71-9d76-0df74a104899",
   "metadata": {},
   "outputs": [],
   "source": [
    "import numpy as np\n",
    "from sklearn.metrics import log_loss"
   ]
  },
  {
   "cell_type": "code",
   "execution_count": 3,
   "id": "689e1984-dd1a-419a-9306-aeba5971c5ec",
   "metadata": {},
   "outputs": [],
   "source": [
    "def log_loss_custom(y_true, y_pred):\n",
    "    \"\"\"\n",
    "    Calculate log loss (binary cross-entropy)\n",
    "    Formula: -1/n * Σ[y_true*log(y_pred) + (1-y_true)*log(1-y_pred)]\n",
    "    Parameters:\n",
    "    - y_true: actual labels (0 or 1)\n",
    "    - y_pred: predicted probabilities (0 to 1)\n",
    "    \"\"\"\n",
    "    n = len(y_true)\n",
    "    \n",
    "    # Add small epsilon to avoid log(0)\n",
    "    epsilon = 1e-15\n",
    "    y_pred = np.clip(y_pred, epsilon, 1 - epsilon)\n",
    "    \n",
    "    # Calculate log loss\n",
    "    loss = -1/n * np.sum(\n",
    "        y_true * np.log(y_pred) + \n",
    "        (1 - y_true) * np.log(1 - y_pred)\n",
    "    )\n",
    "    \n",
    "    return loss"
   ]
  },
  {
   "cell_type": "code",
   "execution_count": 6,
   "id": "fde711ee-a22e-41d3-a901-58310440a759",
   "metadata": {},
   "outputs": [
    {
     "name": "stdout",
     "output_type": "stream",
     "text": [
      "Custom log loss: 0.5472899351247816\n"
     ]
    }
   ],
   "source": [
    "# Test data\n",
    "y_true = np.array([0, 1, 1, 0, 1])\n",
    "y_pred = np.array([0.1, 0.8, 0.6, 0.5, 0.3])\n",
    "\n",
    "# Calculate custom log loss\n",
    "custom_loss = log_loss_custom(y_true, y_pred)\n",
    "print(f\"Custom log loss: {custom_loss}\")"
   ]
  },
  {
   "cell_type": "code",
   "execution_count": 8,
   "id": "bd2ee9cc-3e28-46e7-b66a-cf748e0ceb32",
   "metadata": {},
   "outputs": [
    {
     "name": "stdout",
     "output_type": "stream",
     "text": [
      "Sklearn log loss: 0.5472899351247816\n",
      "Results match: True\n"
     ]
    }
   ],
   "source": [
    "# Verify with sklearn\n",
    "sklearn_loss = log_loss(y_true, y_pred)\n",
    "print(f\"Sklearn log loss: {sklearn_loss}\")\n",
    "\n",
    "# Check if they match\n",
    "print(f\"Results match: {np.isclose(custom_loss, sklearn_loss)}\")"
   ]
  },
  {
   "cell_type": "code",
   "execution_count": null,
   "id": "a41bc860-28e7-4399-bb15-27a33e7a138e",
   "metadata": {},
   "outputs": [],
   "source": [
    "# | Concept           | Description                                                                 |\n",
    "# | ----------------- | --------------------------------------------------------------------------- |\n",
    "# | **Log Loss**      | Measures how well a classifier predicts probabilities                       |\n",
    "# | **Low Log Loss**  | Predictions match true labels                                               |\n",
    "# | **High Log Loss** | Predictions are wrong/confidently incorrect                                 |\n",
    "# | **Clipping**      | Prevents math errors from log(0)                                            |\n",
    "# | **Use Case**      | Used in logistic regression, neural networks, and probabilistic classifiers |\n"
   ]
  }
 ],
 "metadata": {
  "kernelspec": {
   "display_name": "Python 3 (ipykernel)",
   "language": "python",
   "name": "python3"
  },
  "language_info": {
   "codemirror_mode": {
    "name": "ipython",
    "version": 3
   },
   "file_extension": ".py",
   "mimetype": "text/x-python",
   "name": "python",
   "nbconvert_exporter": "python",
   "pygments_lexer": "ipython3",
   "version": "3.12.11"
  }
 },
 "nbformat": 4,
 "nbformat_minor": 5
}
