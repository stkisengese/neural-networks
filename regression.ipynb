{
 "cells": [
  {
   "cell_type": "code",
   "execution_count": 1,
   "id": "a0931e66-e0e8-488e-ac13-ff1f3cfbb71e",
   "metadata": {},
   "outputs": [],
   "source": [
    "# REGRESSION"
   ]
  },
  {
   "cell_type": "code",
   "execution_count": 2,
   "id": "2f24081b-a66c-4736-9947-1eef2389b499",
   "metadata": {},
   "outputs": [],
   "source": [
    "import numpy as np\n",
    "from sklearn.metrics import mean_squared_error\n",
    "from helpers import Neuron, OurNeuralNetwork"
   ]
  },
  {
   "cell_type": "code",
   "execution_count": 4,
   "id": "36ec445a-fb54-402b-b8c4-621daa9f1076",
   "metadata": {},
   "outputs": [
    {
     "name": "stdout",
     "output_type": "stream",
     "text": [
      "Single Neuron Test (Regression):\n",
      "Output: 7\n"
     ]
    }
   ],
   "source": [
    "# Test single neuron with regression\n",
    "print(\"Single Neuron Test (Regression):\")\n",
    "neuron = Neuron(0, 1, 4, True)\n",
    "output = neuron.feedforward(2, 3)\n",
    "print(f\"Output: {output}\")  # Should be 7 (0*2 + 1*3 + 4 = 7)"
   ]
  },
  {
   "cell_type": "code",
   "execution_count": 5,
   "id": "bd301697-af77-44e4-b7a9-a20a81ac0042",
   "metadata": {},
   "outputs": [
    {
     "name": "stdout",
     "output_type": "stream",
     "text": [
      "\n",
      "Student Physics Grade Predictions:\n",
      "------------------------------------------------------------\n",
      "Bob: Math=12, Chem=15 -> Predicted=14.92, Actual=16\n",
      "Eli: Math=10, Chem=9 -> Predicted=14.83, Actual=10\n",
      "Tom: Math=18, Chem=18 -> Predicted=15.09, Actual=19\n",
      "Ryan: Math=13, Chem=14 -> Predicted=14.94, Actual=16\n"
     ]
    }
   ],
   "source": [
    "# Student data for regression\n",
    "# name, math, chemistry, physics\n",
    "students_data = [\n",
    "    (\"Bob\", 12, 15, 16),\n",
    "    (\"Eli\", 10, 9, 10),\n",
    "    (\"Tom\", 18, 18, 19),\n",
    "    (\"Ryan\", 13, 14, 16)\n",
    "]\n",
    "\n",
    "# Initialize network for regression\n",
    "# Hidden layers: use sigmoid (classification activation)\n",
    "# Output layer: use identity (regression activation)\n",
    "neuron_h1 = Neuron(0.05, 0.001, 0, regression=False)\n",
    "neuron_h2 = Neuron(0.002, 0.003, 0, regression=False)\n",
    "neuron_o1 = Neuron(2, 7, 10, regression=True)\n",
    "\n",
    "network = OurNeuralNetwork(neuron_h1, neuron_h2, neuron_o1)\n",
    "\n",
    "# Compute predictions\n",
    "predictions = []\n",
    "y_true = []\n",
    "\n",
    "print(\"\\nStudent Physics Grade Predictions:\")\n",
    "print(\"-\" * 60)\n",
    "for name, math, chemistry, physics in students_data:\n",
    "    pred = network.feedforward(math, chemistry)\n",
    "    predictions.append(pred)\n",
    "    y_true.append(physics)\n",
    "    print(f\"{name}: Math={math}, Chem={chemistry} -> Predicted={pred:.2f}, Actual={physics}\")\n"
   ]
  },
  {
   "cell_type": "code",
   "execution_count": 7,
   "id": "d751107a-bff6-4e06-be4f-57afac82524c",
   "metadata": {},
   "outputs": [
    {
     "name": "stdout",
     "output_type": "stream",
     "text": [
      "\n",
      "Mean Squared Error: 10.2376\n"
     ]
    }
   ],
   "source": [
    "# Convert to numpy arrays\n",
    "predictions = np.array(predictions)\n",
    "y_true = np.array(y_true)\n",
    "\n",
    "# Calculate MSE\n",
    "mse = mean_squared_error(y_true, predictions)\n",
    "print(f\"\\nMean Squared Error: {mse:.4f}\")"
   ]
  },
  {
   "cell_type": "code",
   "execution_count": null,
   "id": "2f7ba43f-7f65-4aea-81fd-24d827137e20",
   "metadata": {},
   "outputs": [],
   "source": []
  }
 ],
 "metadata": {
  "kernelspec": {
   "display_name": "Python 3 (ipykernel)",
   "language": "python",
   "name": "python3"
  },
  "language_info": {
   "codemirror_mode": {
    "name": "ipython",
    "version": 3
   },
   "file_extension": ".py",
   "mimetype": "text/x-python",
   "name": "python",
   "nbconvert_exporter": "python",
   "pygments_lexer": "ipython3",
   "version": "3.12.11"
  }
 },
 "nbformat": 4,
 "nbformat_minor": 5
}
