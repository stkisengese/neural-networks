{
 "cells": [
  {
   "cell_type": "code",
   "execution_count": 1,
   "id": "a739a80f-415e-44cd-b164-c4c7389e9716",
   "metadata": {},
   "outputs": [],
   "source": [
    "# FORWARD PROPAGATION"
   ]
  },
  {
   "cell_type": "code",
   "execution_count": 23,
   "id": "3fe49c45-6280-43a4-8f81-c0b4f54260b0",
   "metadata": {},
   "outputs": [],
   "source": [
    "import numpy as np\n",
    "from sklearn.metrics import log_loss\n",
    "\n",
    "from importlib import reload\n",
    "import helpers\n",
    "reload(helpers)\n",
    "\n",
    "from helpers import Neuron, OurNeuralNetwork\n",
    "# help(Neuron)"
   ]
  },
  {
   "cell_type": "code",
   "execution_count": 25,
   "id": "4654ad7e-8c9d-4a76-86a1-8a286a70d616",
   "metadata": {},
   "outputs": [
    {
     "name": "stdout",
     "output_type": "stream",
     "text": [
      "Student Predictions:\n",
      "--------------------------------------------------\n",
      "Bob: Math=12, Chem=15 -> Pred=0.7855, Actual=1\n",
      "Eli: Math=10, Chem=9 -> Pred=0.7772, Actual=0\n",
      "Tom: Math=18, Chem=18 -> Pred=0.8068, Actual=1\n",
      "Ryan: Math=13, Chem=14 -> Pred=0.7892, Actual=1\n"
     ]
    }
   ],
   "source": [
    "# Student data\n",
    "# name, math, chemistry, exam_success\n",
    "students_data = [\n",
    "    (\"Bob\", 12, 15, 1),\n",
    "    (\"Eli\", 10, 9, 0),\n",
    "    (\"Tom\", 18, 18, 1),\n",
    "    (\"Ryan\", 13, 14, 1)\n",
    "]\n",
    "\n",
    "# Initialize network\n",
    "neuron_h1 = Neuron(0.05, 0.001, 0)\n",
    "neuron_h2 = Neuron(0.02, 0.003, 0)\n",
    "neuron_o1 = Neuron(2, 0, 0)\n",
    "\n",
    "network = OurNeuralNetwork(neuron_h1, neuron_h2, neuron_o1)\n",
    "\n",
    "# Compute predictions for each student\n",
    "predictions = []\n",
    "y_true = []\n",
    "\n",
    "print(\"Student Predictions:\")\n",
    "print(\"-\" * 50)\n",
    "for name, math, chemistry, success in students_data:\n",
    "    pred = network.feedforward(math, chemistry)\n",
    "    predictions.append(pred)\n",
    "    y_true.append(success)\n",
    "    print(f\"{name}: Math={math}, Chem={chemistry} -> Pred={pred:.4f}, Actual={success}\")\n",
    "\n",
    "# help(Neuron)\n"
   ]
  },
  {
   "cell_type": "code",
   "execution_count": 26,
   "id": "4170f35f-7f64-4ec6-a38b-bbc8779bad3f",
   "metadata": {},
   "outputs": [
    {
     "name": "stdout",
     "output_type": "stream",
     "text": [
      "\n",
      "Log Loss: 0.5485\n"
     ]
    }
   ],
   "source": [
    "# Convert to numpy arrays\n",
    "predictions = np.array(predictions)\n",
    "y_true = np.array(y_true)\n",
    "\n",
    "# Calculate log loss\n",
    "loss = log_loss(y_true, predictions)\n",
    "print(f\"\\nLog Loss: {loss:.4f}\")"
   ]
  },
  {
   "cell_type": "code",
   "execution_count": null,
   "id": "344a0a17-c66d-42c2-8d07-21bd5b6a18b2",
   "metadata": {},
   "outputs": [],
   "source": []
  }
 ],
 "metadata": {
  "kernelspec": {
   "display_name": "Python 3 (ipykernel)",
   "language": "python",
   "name": "python3"
  },
  "language_info": {
   "codemirror_mode": {
    "name": "ipython",
    "version": 3
   },
   "file_extension": ".py",
   "mimetype": "text/x-python",
   "name": "python",
   "nbconvert_exporter": "python",
   "pygments_lexer": "ipython3",
   "version": "3.12.11"
  }
 },
 "nbformat": 4,
 "nbformat_minor": 5
}
