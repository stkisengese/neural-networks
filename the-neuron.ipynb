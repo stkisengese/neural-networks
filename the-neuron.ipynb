{
 "cells": [
  {
   "cell_type": "code",
   "execution_count": 3,
   "id": "e5ae7579-feab-486a-8942-013a04f425dd",
   "metadata": {},
   "outputs": [],
   "source": [
    "import numpy as np\n",
    "\n",
    "class Neuron:\n",
    "    def __init__(self, weight1, weight2, bias):\n",
    "        self.weights_1 = weight1\n",
    "        self.weights_2 = weight2\n",
    "        self.bias = bias\n",
    "\n",
    "    def sigmoid(self, x):\n",
    "        self.weights_2 = weight2\n",
    "        self.bias = bias\n",
    "\n",
    "    def feedforward(self, x1, x2):\n",
    "        \"\"\"\n",
    "        Perform feedforward operation\n",
    "        Steps:\n",
    "        1. Multiply inputs by weights\n",
    "        2. Add bias\n",
    "        3. Apply activation function\n",
    "        \"\"\"\n",
    "        # Step 1 & 2: Weighted sum + bias\n",
    "        total = (x1 * self.weights_1) + (x2 * self.weights_2) + self.bias\n",
    "        \n",
    "        # Step 3: Apply sigmoid activation\n",
    "        y = self.sigmoid(total)\n",
    "        \n",
    "        return y"
   ]
  },
  {
   "cell_type": "code",
   "execution_count": null,
   "id": "e7593a1d-8371-4176-b8e4-f72b436c63c7",
   "metadata": {},
   "outputs": [],
   "source": []
  }
 ],
 "metadata": {
  "kernelspec": {
   "display_name": "Python 3 (ipykernel)",
   "language": "python",
   "name": "python3"
  },
  "language_info": {
   "codemirror_mode": {
    "name": "ipython",
    "version": 3
   },
   "file_extension": ".py",
   "mimetype": "text/x-python",
   "name": "python",
   "nbconvert_exporter": "python",
   "pygments_lexer": "ipython3",
   "version": "3.12.11"
  }
 },
 "nbformat": 4,
 "nbformat_minor": 5
}
