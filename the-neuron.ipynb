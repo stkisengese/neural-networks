{
 "cells": [
  {
   "cell_type": "code",
   "execution_count": 11,
   "id": "bb47d690-72f3-4e9e-93b2-341f984c1167",
   "metadata": {},
   "outputs": [],
   "source": [
    "# THE NEURON"
   ]
  },
  {
   "cell_type": "code",
   "execution_count": 12,
   "id": "e5ae7579-feab-486a-8942-013a04f425dd",
   "metadata": {},
   "outputs": [
    {
     "name": "stdout",
     "output_type": "stream",
     "text": [
      "Output: 0.9991\n"
     ]
    }
   ],
   "source": [
    "import numpy as np\n",
    "\n",
    "class Neuron:\n",
    "    def __init__(self, weight1, weight2, bias):\n",
    "        self.weights_1 = weight1\n",
    "        self.weights_2 = weight2\n",
    "        self.bias = bias\n",
    "\n",
    "    def sigmoid(self, z):\n",
    "        \"\"\"Sigmoid activation function\"\"\"\n",
    "        return 1 / (1 + np.exp(-z))\n",
    "\n",
    "    def feedforward(self, x1, x2):\n",
    "        \"\"\"\n",
    "        Perform feedforward operation\n",
    "        Steps:\n",
    "        1. Multiply inputs by weights\n",
    "        2. Add bias\n",
    "        3. Apply activation function\n",
    "        \"\"\"\n",
    "        # Step 1 & 2: Weighted sum + bias\n",
    "        total = (x1 * self.weights_1) + (x2 * self.weights_2) + self.bias\n",
    "        \n",
    "        # Step 3: Apply sigmoid activation\n",
    "        y = self.sigmoid(total)\n",
    "        \n",
    "        return y\n",
    "\n",
    "\n",
    "# Test the neuron\n",
    "neuron = Neuron(0, 1, 4)\n",
    "output = neuron.feedforward(2, 3)\n",
    "print(f\"Output: {output:.4f}\")  # Should be ~0.999"
   ]
  },
  {
   "cell_type": "code",
   "execution_count": 13,
   "id": "e7593a1d-8371-4176-b8e4-f72b436c63c7",
   "metadata": {},
   "outputs": [],
   "source": [
    "# A neuron is the basic computation unit of a neural network.\n",
    "# It performs a weighted sum of inputs, adds a bias, and applies an activation function.\n",
    "# The sigmoid function is often used in binary classification because it maps results to the range (0, 1)."
   ]
  },
  {
   "cell_type": "code",
   "execution_count": 14,
   "id": "15911ef4-c941-48ef-b057-301aa353a3fb",
   "metadata": {},
   "outputs": [],
   "source": [
    "# NEURAL NEXTWORK"
   ]
  },
  {
   "cell_type": "code",
   "execution_count": 15,
   "id": "26498f74-be40-410d-9bcf-20a0ce05d817",
   "metadata": {},
   "outputs": [],
   "source": [
    "class OurNeuralNetwork:\n",
    "    \"\"\"\n",
    "    A simple neural network with:\n",
    "    - 2 inputs\n",
    "    - 1 hidden layer with 2 neurons (h1, h2)\n",
    "    - 1 output layer with 1 neuron (o1)\n",
    "    \"\"\"\n",
    "    def __init__(self, neuron_h1, neuron_h2, neuron_o1):\n",
    "        self.h1 = neuron_h1\n",
    "        self.h2 = neuron_h2\n",
    "        self.o1 = neuron_o1\n",
    "    \n",
    "    def feedforward(self, x1, x2):\n",
    "        \"\"\"\n",
    "        Perform forward propagation through the network\n",
    "        \"\"\"\n",
    "        # Hidden layer: compute outputs from h1 and h2\n",
    "        out_h1 = self.h1.feedforward(x1, x2)\n",
    "        out_h2 = self.h2.feedforward(x1, x2)\n",
    "        \n",
    "        # Output layer: o1 takes outputs from h1 and h2 as inputs\n",
    "        y = self.o1.feedforward(out_h1, out_h2)\n",
    "        \n",
    "        return y"
   ]
  },
  {
   "cell_type": "code",
   "execution_count": null,
   "id": "28a206fa-ccc4-4a41-831d-aeb2d018f850",
   "metadata": {},
   "outputs": [],
   "source": []
  }
 ],
 "metadata": {
  "kernelspec": {
   "display_name": "Python 3 (ipykernel)",
   "language": "python",
   "name": "python3"
  },
  "language_info": {
   "codemirror_mode": {
    "name": "ipython",
    "version": 3
   },
   "file_extension": ".py",
   "mimetype": "text/x-python",
   "name": "python",
   "nbconvert_exporter": "python",
   "pygments_lexer": "ipython3",
   "version": "3.12.11"
  }
 },
 "nbformat": 4,
 "nbformat_minor": 5
}
